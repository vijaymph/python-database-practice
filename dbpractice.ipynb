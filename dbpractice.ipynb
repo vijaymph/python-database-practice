{
 "cells": [
  {
   "cell_type": "markdown",
   "metadata": {},
   "source": [
    "import sqlite3"
   ]
  },
  {
   "cell_type": "code",
   "execution_count": 24,
   "metadata": {},
   "outputs": [],
   "source": [
    "import sqlite3\n",
    "c = sqlite3.connect(\"xyz\")"
   ]
  },
  {
   "cell_type": "code",
   "execution_count": 25,
   "metadata": {},
   "outputs": [
    {
     "ename": "OperationalError",
     "evalue": "table uvw already exists",
     "output_type": "error",
     "traceback": [
      "\u001b[1;31m---------------------------------------------------------------------------\u001b[0m",
      "\u001b[1;31mOperationalError\u001b[0m                          Traceback (most recent call last)",
      "\u001b[1;32m<ipython-input-25-c171ed407d5f>\u001b[0m in \u001b[0;36m<module>\u001b[1;34m\u001b[0m\n\u001b[1;32m----> 1\u001b[1;33m \u001b[0mc\u001b[0m\u001b[1;33m.\u001b[0m\u001b[0mexecute\u001b[0m\u001b[1;33m(\u001b[0m \u001b[1;34m\" create table uvw(id int , name text, salary int)\"\u001b[0m\u001b[1;33m)\u001b[0m\u001b[1;33m\u001b[0m\u001b[1;33m\u001b[0m\u001b[0m\n\u001b[0m",
      "\u001b[1;31mOperationalError\u001b[0m: table uvw already exists"
     ]
    }
   ],
   "source": [
    "c.execute( \" create table uvw(id int , name text, salary int)\")"
   ]
  },
  {
   "cell_type": "code",
   "execution_count": 22,
   "metadata": {},
   "outputs": [
    {
     "data": {
      "text/plain": [
       "<sqlite3.Cursor at 0x1d18fe66c70>"
      ]
     },
     "execution_count": 22,
     "metadata": {},
     "output_type": "execute_result"
    }
   ],
   "source": [
    "c.execute ( \" insert into uvw (id, name, salary) values (100 , 'sridhar', 50000)\")\n",
    "c.execute ( \" insert into uvw (id, name, salary) values (100 , 'vijay', 40000)\")\n",
    "c.execute ( \" insert into uvw (id, name, salary) values (100 , 'rohit', 33000)\")"
   ]
  },
  {
   "cell_type": "code",
   "execution_count": 23,
   "metadata": {},
   "outputs": [],
   "source": [
    "c.commit()"
   ]
  },
  {
   "cell_type": "code",
   "execution_count": 8,
   "metadata": {},
   "outputs": [
    {
     "data": {
      "text/plain": [
       "'C:\\\\Users\\\\VIJAY KUMAR'"
      ]
     },
     "execution_count": 8,
     "metadata": {},
     "output_type": "execute_result"
    }
   ],
   "source": [
    "pwd()"
   ]
  },
  {
   "cell_type": "code",
   "execution_count": 19,
   "metadata": {},
   "outputs": [],
   "source": [
    "c.commit()"
   ]
  },
  {
   "cell_type": "code",
   "execution_count": 37,
   "metadata": {},
   "outputs": [],
   "source": [
    "import sqlite3"
   ]
  },
  {
   "cell_type": "code",
   "execution_count": 38,
   "metadata": {},
   "outputs": [],
   "source": [
    "a = sqlite3.connect (\"covidDB2705\")"
   ]
  },
  {
   "cell_type": "code",
   "execution_count": 40,
   "metadata": {},
   "outputs": [
    {
     "ename": "OperationalError",
     "evalue": "table covid19 already exists",
     "output_type": "error",
     "traceback": [
      "\u001b[1;31m---------------------------------------------------------------------------\u001b[0m",
      "\u001b[1;31mOperationalError\u001b[0m                          Traceback (most recent call last)",
      "\u001b[1;32m<ipython-input-40-61b835b16b23>\u001b[0m in \u001b[0;36m<module>\u001b[1;34m\u001b[0m\n\u001b[1;32m----> 1\u001b[1;33m \u001b[0ma\u001b[0m\u001b[1;33m.\u001b[0m\u001b[0mexecute\u001b[0m\u001b[1;33m(\u001b[0m \u001b[1;34m\" create table covid19(Rank int , Country text, Cases int, Mortality int)\"\u001b[0m\u001b[1;33m)\u001b[0m\u001b[1;33m\u001b[0m\u001b[1;33m\u001b[0m\u001b[0m\n\u001b[0m",
      "\u001b[1;31mOperationalError\u001b[0m: table covid19 already exists"
     ]
    }
   ],
   "source": [
    "a.execute( \" create table covid19(Rank int , Country text, Cases int, Mortality int)\")"
   ]
  },
  {
   "cell_type": "code",
   "execution_count": 42,
   "metadata": {},
   "outputs": [
    {
     "ename": "OperationalError",
     "evalue": "database is locked",
     "output_type": "error",
     "traceback": [
      "\u001b[1;31m---------------------------------------------------------------------------\u001b[0m",
      "\u001b[1;31mOperationalError\u001b[0m                          Traceback (most recent call last)",
      "\u001b[1;32m<ipython-input-42-8007de5d710e>\u001b[0m in \u001b[0;36m<module>\u001b[1;34m\u001b[0m\n\u001b[1;32m----> 1\u001b[1;33m \u001b[0ma\u001b[0m\u001b[1;33m.\u001b[0m\u001b[0mexecute\u001b[0m \u001b[1;33m(\u001b[0m\u001b[1;34m\" insert into covid19 (Rank, Country, Cases, Mortality) values(1, 'USA', 1725275, 100572)\"\u001b[0m\u001b[1;33m)\u001b[0m\u001b[1;33m\u001b[0m\u001b[1;33m\u001b[0m\u001b[0m\n\u001b[0m\u001b[0;32m      2\u001b[0m \u001b[0ma\u001b[0m\u001b[1;33m.\u001b[0m\u001b[0mexecute\u001b[0m \u001b[1;33m(\u001b[0m\u001b[1;34m\" insert into covid19 (Rank, Country, Cases, Mortality) values(2, 'Brazil', 394507, 24593)\"\u001b[0m\u001b[1;33m)\u001b[0m\u001b[1;33m\u001b[0m\u001b[1;33m\u001b[0m\u001b[0m\n\u001b[0;32m      3\u001b[0m \u001b[0ma\u001b[0m\u001b[1;33m.\u001b[0m\u001b[0mexecute\u001b[0m \u001b[1;33m(\u001b[0m\u001b[1;34m\" insert into covid19 (Rank, Country, Cases, Mortality) values(3, 'Russia', 362342, 3807)\"\u001b[0m\u001b[1;33m)\u001b[0m\u001b[1;33m\u001b[0m\u001b[1;33m\u001b[0m\u001b[0m\n\u001b[0;32m      4\u001b[0m \u001b[0ma\u001b[0m\u001b[1;33m.\u001b[0m\u001b[0mexecute\u001b[0m \u001b[1;33m(\u001b[0m\u001b[1;34m\" insert into covid19 (Rank, Country, Cases, Mortality) values(4, 'Spain', 283339, 27117)\"\u001b[0m\u001b[1;33m)\u001b[0m\u001b[1;33m\u001b[0m\u001b[1;33m\u001b[0m\u001b[0m\n\u001b[0;32m      5\u001b[0m \u001b[0ma\u001b[0m\u001b[1;33m.\u001b[0m\u001b[0mexecute\u001b[0m \u001b[1;33m(\u001b[0m\u001b[1;34m\" insert into covid19 (Rank, Country, Cases, Mortality) values(5, 'UK', 265227, 37048)\"\u001b[0m\u001b[1;33m)\u001b[0m\u001b[1;33m\u001b[0m\u001b[1;33m\u001b[0m\u001b[0m\n",
      "\u001b[1;31mOperationalError\u001b[0m: database is locked"
     ]
    }
   ],
   "source": [
    "a.execute (\" insert into covid19 (Rank, Country, Cases, Mortality) values(1, 'USA', 1725275, 100572)\")\n",
    "a.execute (\" insert into covid19 (Rank, Country, Cases, Mortality) values(2, 'Brazil', 394507, 24593)\")\n",
    "a.execute (\" insert into covid19 (Rank, Country, Cases, Mortality) values(3, 'Russia', 362342, 3807)\")\n",
    "a.execute (\" insert into covid19 (Rank, Country, Cases, Mortality) values(4, 'Spain', 283339, 27117)\")\n",
    "a.execute (\" insert into covid19 (Rank, Country, Cases, Mortality) values(5, 'UK', 265227, 37048)\")"
   ]
  },
  {
   "cell_type": "code",
   "execution_count": 43,
   "metadata": {},
   "outputs": [],
   "source": [
    "c.commit()"
   ]
  },
  {
   "cell_type": "code",
   "execution_count": null,
   "metadata": {},
   "outputs": [],
   "source": []
  },
  {
   "cell_type": "code",
   "execution_count": 47,
   "metadata": {},
   "outputs": [],
   "source": [
    "import sqlite3"
   ]
  },
  {
   "cell_type": "code",
   "execution_count": 48,
   "metadata": {},
   "outputs": [],
   "source": [
    "a = sqlite3.connect(\"CD2705\")"
   ]
  },
  {
   "cell_type": "code",
   "execution_count": 49,
   "metadata": {},
   "outputs": [
    {
     "data": {
      "text/plain": [
       "<sqlite3.Cursor at 0x1d18fe7ea40>"
      ]
     },
     "execution_count": 49,
     "metadata": {},
     "output_type": "execute_result"
    }
   ],
   "source": [
    "a.execute ( \"create table cv19 (rank int, country text, cases int , mortality int) \")"
   ]
  },
  {
   "cell_type": "code",
   "execution_count": 52,
   "metadata": {},
   "outputs": [
    {
     "data": {
      "text/plain": [
       "<sqlite3.Cursor at 0x1d18fe7e960>"
      ]
     },
     "execution_count": 52,
     "metadata": {},
     "output_type": "execute_result"
    }
   ],
   "source": [
    "a.execute (\"insert into cv19 (rank, country , cases, mortality) values(1, 'USA', 1725275, 100572)\")\n",
    "a.execute (\"insert into cv19 (rank, country , cases, mortality) values(2, 'Brazil', 394507, 24593)\")\n",
    "a.execute (\"insert into cv19 (rank, country , cases, mortality) values(3, 'Russia', 362342, 3807)\")\n",
    "a.execute (\"insert into cv19 (rank, country , cases, mortality) values(4, 'Spain', 283339, 27117)\")\n",
    "a.execute (\"insert into cv19 (rank, country , cases, mortality) values(5, 'UK', 265227, 37048)\")\n",
    "a.execute (\"insert into cv19 (rank, country , cases, mortality) values(6, 'Italy', 230555, 32955)\")\n",
    "a.execute (\"insert into cv19 (rank, country , cases, mortality) values(7, 'France', 182722, 28530)\")\n",
    "a.execute (\"insert into cv19 (rank, country , cases, mortality) values(8, 'Germany', 181288, 8498)\")\n",
    "a.execute (\"insert into cv19 (rank, country , cases, mortality) values(9, 'Turkey', 158762, 4397)\")\n",
    "a.execute (\"insert into cv19 (rank, country , cases, mortality) values(10, 'India', 151876, 4346)\")"
   ]
  },
  {
   "cell_type": "code",
   "execution_count": 53,
   "metadata": {},
   "outputs": [],
   "source": [
    "a.commit()"
   ]
  },
  {
   "cell_type": "code",
   "execution_count": 54,
   "metadata": {},
   "outputs": [
    {
     "data": {
      "text/plain": [
       "'C:\\\\Users\\\\VIJAY KUMAR'"
      ]
     },
     "execution_count": 54,
     "metadata": {},
     "output_type": "execute_result"
    }
   ],
   "source": [
    "pwd()"
   ]
  },
  {
   "cell_type": "code",
   "execution_count": 56,
   "metadata": {},
   "outputs": [
    {
     "data": {
      "text/plain": [
       "<sqlite3.Cursor at 0x1d18fe8c260>"
      ]
     },
     "execution_count": 56,
     "metadata": {},
     "output_type": "execute_result"
    }
   ],
   "source": [
    "a.execute(\"select * from cv19 where country = 'Germany'\")"
   ]
  },
  {
   "cell_type": "code",
   "execution_count": 57,
   "metadata": {},
   "outputs": [
    {
     "data": {
      "text/plain": [
       "[(8, 'Germany', 181288, 8498)]"
      ]
     },
     "execution_count": 57,
     "metadata": {},
     "output_type": "execute_result"
    }
   ],
   "source": [
    "list(a.execute(\"select * from cv19 where country = 'Germany'\"))"
   ]
  },
  {
   "cell_type": "code",
   "execution_count": 58,
   "metadata": {},
   "outputs": [
    {
     "data": {
      "text/plain": [
       "<sqlite3.Cursor at 0x1d18fe8c730>"
      ]
     },
     "execution_count": 58,
     "metadata": {},
     "output_type": "execute_result"
    }
   ],
   "source": [
    "a.execute(\"select * from cv19 where country = 'India , France'\")"
   ]
  },
  {
   "cell_type": "code",
   "execution_count": 63,
   "metadata": {},
   "outputs": [
    {
     "data": {
      "text/plain": [
       "[(10, 'India', 151876, 4346)]"
      ]
     },
     "execution_count": 63,
     "metadata": {},
     "output_type": "execute_result"
    }
   ],
   "source": [
    "list(a.execute(\"select * from cv19 where country = 'India'\"))"
   ]
  },
  {
   "cell_type": "code",
   "execution_count": 68,
   "metadata": {},
   "outputs": [
    {
     "name": "stdout",
     "output_type": "stream",
     "text": [
      "(1, 'USA', 1725275, 100572)\n",
      "(1, 'USA', 1725275, 100572)\n",
      "(2, 'Brazil', 394507, 24593)\n",
      "(3, 'Russia', 362342, 3807)\n",
      "(4, 'Spain', 283339, 27117)\n",
      "(5, 'UK', 265227, 37048)\n",
      "(6, 'Italy', 230555, 32955)\n"
     ]
    }
   ],
   "source": [
    "for i in a.execute (\"select * from cv19 where cases > 200000 \") :\n",
    "    print (i)"
   ]
  },
  {
   "cell_type": "code",
   "execution_count": 69,
   "metadata": {},
   "outputs": [
    {
     "name": "stdout",
     "output_type": "stream",
     "text": [
      "(10, 'India', 151876, 4346)\n",
      "(9, 'Turkey', 158762, 4397)\n",
      "(8, 'Germany', 181288, 8498)\n",
      "(7, 'France', 182722, 28530)\n",
      "(6, 'Italy', 230555, 32955)\n",
      "(5, 'UK', 265227, 37048)\n",
      "(4, 'Spain', 283339, 27117)\n",
      "(3, 'Russia', 362342, 3807)\n",
      "(2, 'Brazil', 394507, 24593)\n",
      "(1, 'USA', 1725275, 100572)\n",
      "(1, 'USA', 1725275, 100572)\n"
     ]
    }
   ],
   "source": [
    "for i in a.execute (\"select * from cv19 order by cases \"):\n",
    "    print (i)"
   ]
  },
  {
   "cell_type": "code",
   "execution_count": 71,
   "metadata": {},
   "outputs": [
    {
     "data": {
      "text/plain": [
       "[(1, 'USA', 1725275, 100572),\n",
       " (1, 'USA', 1725275, 100572),\n",
       " (2, 'Brazil', 394507, 24593),\n",
       " (4, 'Spain', 283339, 27117),\n",
       " (5, 'UK', 265227, 37048),\n",
       " (6, 'Italy', 230555, 32955),\n",
       " (7, 'France', 182722, 28530)]"
      ]
     },
     "execution_count": 71,
     "metadata": {},
     "output_type": "execute_result"
    }
   ],
   "source": [
    "list (a.execute (\" select * from cv19 where mortality > 10000 \"))"
   ]
  },
  {
   "cell_type": "code",
   "execution_count": null,
   "metadata": {},
   "outputs": [],
   "source": []
  }
 ],
 "metadata": {
  "kernelspec": {
   "display_name": "Python 3",
   "language": "python",
   "name": "python3"
  },
  "language_info": {
   "codemirror_mode": {
    "name": "ipython",
    "version": 3
   },
   "file_extension": ".py",
   "mimetype": "text/x-python",
   "name": "python",
   "nbconvert_exporter": "python",
   "pygments_lexer": "ipython3",
   "version": "3.7.6"
  }
 },
 "nbformat": 4,
 "nbformat_minor": 4
}
